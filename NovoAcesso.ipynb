{
 "cells": [
  {
   "cell_type": "code",
   "execution_count": 4,
   "id": "5c58ab5c",
   "metadata": {},
   "outputs": [
    {
     "name": "stdout",
     "output_type": "stream",
     "text": [
      "\n"
     ]
    }
   ],
   "source": [
    "# Automatização utilizando o Selenium - Novo acesso a VPN\n",
    "\n",
    "from selenium import webdriver\n",
    "from webdriver_manager.chrome import ChromeDriverManager\n",
    "from selenium.webdriver.chrome.service import Service\n",
    "\n",
    "servico = Service(ChromeDriverManager().install())\n",
    "\n",
    "navegador = webdriver.Chrome(service=servico)\n",
    "\n",
    "# Novo acesso a VPN\n",
    "navegador.get(\"https://novoacesso.arcelormittal.com.br/Login/Login\")\n",
    "\n",
    "# Preencher \"User name\", \"Password\" e clicar em \"Sign In\"\n",
    "navegador.find_element('xpath', '//*[@id=\"userName\"]').send_keys(\"Digitar seu ID\")\n",
    "navegador.find_element('xpath', '//*[@id=\"passwordDisplayed\"]').send_keys(\"Digitar sua senha\")\n",
    "navegador.find_element('xpath', '//*[@id=\"LoginButton\"]').click()\n",
    "\n",
    "# Aprovar no seu celular\n",
    "\n",
    "# End"
   ]
  }
 ],
 "metadata": {
  "kernelspec": {
   "display_name": "Python 3 (ipykernel)",
   "language": "python",
   "name": "python3"
  },
  "language_info": {
   "codemirror_mode": {
    "name": "ipython",
    "version": 3
   },
   "file_extension": ".py",
   "mimetype": "text/x-python",
   "name": "python",
   "nbconvert_exporter": "python",
   "pygments_lexer": "ipython3",
   "version": "3.9.12"
  }
 },
 "nbformat": 4,
 "nbformat_minor": 5
}
