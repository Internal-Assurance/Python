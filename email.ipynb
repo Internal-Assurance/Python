{
 "cells": [
  {
   "cell_type": "code",
   "execution_count": 2,
   "id": "cf3ec4f0",
   "metadata": {},
   "outputs": [],
   "source": [
    "# Automatização de envio de arquivo por email\n",
    "import pyautogui\n",
    "import time\n",
    "\n",
    "# Mensagem de execução\n",
    "pyautogui.alert(\"O código vai iniciar. Gentileza não utilizar nada enquanto ele estiver rodando!\")\n",
    "pyautogui.PAUSE = 1.0\n",
    "\n",
    "# Como exemplo, enviar um arquivo excel\n",
    "pyautogui.press('winleft')\n",
    "pyautogui.write('excel')\n",
    "pyautogui.press('enter')\n",
    "time.sleep(4)\n",
    "pyautogui.moveTo(262, 195)\n",
    "pyautogui.click()\n",
    "pyautogui.moveTo(116, 256)\n",
    "pyautogui.click()\n",
    "pyautogui.write('Teste')\n",
    "pyautogui.press('enter')\n",
    "pyautogui.moveTo(215, 14)\n",
    "pyautogui.click()\n",
    "pyautogui.moveTo(526, 313)\n",
    "pyautogui.write('Teste_Python')\n",
    "pyautogui.moveTo(757, 526)\n",
    "pyautogui.click()\n",
    "pyautogui.moveTo(1342, 7)\n",
    "pyautogui.click()\n",
    "time.sleep(4)\n",
    "\n",
    "# Abrir o Outlook\n",
    "pyautogui.press('winleft')\n",
    "pyautogui.write('outlook')\n",
    "pyautogui.press('enter')\n",
    "time.sleep(6)\n",
    "pyautogui.moveTo(34, 81)\n",
    "pyautogui.click()\n",
    "time.sleep(2)\n",
    "pyautogui.moveTo(337, 214)\n",
    "pyautogui.click()\n",
    "pyautogui.write('Digitar email do destinatário')\n",
    "pyautogui.moveTo(187, 297)\n",
    "pyautogui.click()\n",
    "pyautogui.write('Teste Python')\n",
    "pyautogui.moveTo(23, 337)\n",
    "pyautogui.click()\n",
    "pyautogui.write('Prezado, bom dia!')\n",
    "pyautogui.press('enter')  \n",
    "pyautogui.press('enter')                \n",
    "pyautogui.write('Segue anexo o arquivo para teste.')\n",
    "pyautogui.press('enter')\n",
    "pyautogui.moveTo(583, 115)\n",
    "pyautogui.click()\n",
    "time.sleep(1)\n",
    "pyautogui.moveTo(576, 185)\n",
    "pyautogui.click()\n",
    "pyautogui.moveTo(455, 407)\n",
    "pyautogui.click()\n",
    "pyautogui.moveTo(43, 238)\n",
    "time.sleep(4)\n",
    "pyautogui.click()\n",
    "\n",
    "# End"
   ]
  },
  {
   "cell_type": "code",
   "execution_count": 4,
   "id": "0585d0ca",
   "metadata": {},
   "outputs": [
    {
     "data": {
      "text/plain": [
       "Point(x=337, y=214)"
      ]
     },
     "execution_count": 4,
     "metadata": {},
     "output_type": "execute_result"
    }
   ],
   "source": [
    "pyautogui.position()"
   ]
  },
  {
   "cell_type": "code",
   "execution_count": null,
   "id": "ed3bd472",
   "metadata": {},
   "outputs": [],
   "source": []
  }
 ],
 "metadata": {
  "kernelspec": {
   "display_name": "Python 3 (ipykernel)",
   "language": "python",
   "name": "python3"
  },
  "language_info": {
   "codemirror_mode": {
    "name": "ipython",
    "version": 3
   },
   "file_extension": ".py",
   "mimetype": "text/x-python",
   "name": "python",
   "nbconvert_exporter": "python",
   "pygments_lexer": "ipython3",
   "version": "3.9.12"
  }
 },
 "nbformat": 4,
 "nbformat_minor": 5
}
